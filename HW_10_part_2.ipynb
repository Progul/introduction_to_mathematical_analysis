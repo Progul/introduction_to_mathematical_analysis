{
 "cells": [
  {
   "attachments": {},
   "cell_type": "markdown",
   "metadata": {},
   "source": [
    "## Домашняя работа 10 ч.2\n"
   ]
  },
  {
   "cell_type": "markdown",
   "metadata": {},
   "source": [
    "### Исследовать ряд на сходимость, используя признак д’Аламбера:"
   ]
  },
  {
   "attachments": {},
   "cell_type": "markdown",
   "metadata": {},
   "source": [
    "$ \\displaystyle\\sum\\limits_{n=1}^\\infty \\frac{n^{n}}{(n!)^{2}}~= $"
   ]
  },
  {
   "attachments": {},
   "cell_type": "markdown",
   "metadata": {},
   "source": [
    "$ \\displaystyle\\sum\\limits_{n=1}^\\infty \\frac{n^{n}}{(n!)^{2}}~= q,~ <br> \n",
    "q<1~ -~ ряд~ сходится,~ q>1~ -~ ряд~ расходится $"
   ]
  },
  {
   "attachments": {},
   "cell_type": "markdown",
   "metadata": {},
   "source": [
    "$ \\displaystyle\\sum\\limits_{n=1}^\\infty \\frac{n^{n}}{(n!)^{2}}~= \\lim_{n \\rightarrow \\infty} \\frac{(n+1)^{n+1}}{((n+1)!)^{2}}~:~\\frac{n^{n}}{(n!)^{2}} = $"
   ]
  },
  {
   "attachments": {},
   "cell_type": "markdown",
   "metadata": {},
   "source": [
    "$ \\lim_{n \\rightarrow \\infty} \\frac{(n+1)^{n+1} * (n!)^{2}}{((n+1)!)^{2} * n^{2}} = \\lim_{n \\rightarrow \\infty} \\frac{(n+1)^{n}(n+1)n!n!}{n!(n+1)n!(n+1)n^{2}} = $"
   ]
  },
  {
   "attachments": {},
   "cell_type": "markdown",
   "metadata": {},
   "source": [
    "$ \\lim_{n \\rightarrow \\infty} \\frac{(n+1)^{n}}{(n+1)n^{n}} = \\lim_{n \\rightarrow \\infty} \\frac{1}{n+1}~\\lim_{n \\rightarrow \\infty} (\\frac{n+1}{n})^{n} = \\lim_{n \\rightarrow \\infty} \\frac{1}{n+1}~\\lim_{n \\rightarrow \\infty} (1+\\frac{1}{n})^{2} = 0~<~1~-~ряд~сходится $"
   ]
  },
  {
   "cell_type": "markdown",
   "metadata": {},
   "source": [
    "### Исследовать ряд на сходимость, используя радикальный признак Коши:"
   ]
  },
  {
   "attachments": {},
   "cell_type": "markdown",
   "metadata": {},
   "source": [
    "$ \\displaystyle\\sum\\limits_{n=1}^\\infty \\frac{n}{2^{n}}~= q, ~ q<1~ -~ ряд~ сходится,~ q>1~ -~ ряд~ расодится,~ q=1~-~ признак~ Коши~ не~ работает $"
   ]
  },
  {
   "cell_type": "markdown",
   "metadata": {},
   "source": [
    "Поставим выражение под корень в степени n"
   ]
  },
  {
   "attachments": {},
   "cell_type": "markdown",
   "metadata": {},
   "source": [
    "$ \\displaystyle\\sum\\limits_{n=1}^\\infty \\frac{n}{2^{n}}~= \\lim_{n \\rightarrow \\infty} \\sqrt[n]{\\frac{n}{2^{n}}}= \\lim_{n \\rightarrow \\infty} (\\frac{n}{2n})^{\\frac{1}{2}} $"
   ]
  },
  {
   "cell_type": "markdown",
   "metadata": {},
   "source": [
    "Разделим на два слагаемых"
   ]
  },
  {
   "attachments": {},
   "cell_type": "markdown",
   "metadata": {},
   "source": [
    "$ n^{\\frac{1}{2}} = 1,~а~ 2n^{\\frac{1}{2}} = 2, тогда~ получаем~\\frac{1}{2}~<1~-~ряд~ сходится $"
   ]
  },
  {
   "cell_type": "markdown",
   "metadata": {},
   "source": [
    "### Исследовать ряд на сходимость, используя признак Лейбница:"
   ]
  },
  {
   "attachments": {},
   "cell_type": "markdown",
   "metadata": {},
   "source": [
    "$ Если~\\displaystyle\\sum\\limits_{n=1}^\\infty |a_{n}|-~сходится,~ то~ \\displaystyle\\sum\\limits_{n=1}^\\infty a_{n}-~сходится~ абсолютно~~~~~~~~~~~~~\n",
    "если \\displaystyle\\sum\\limits_{n=1}^\\infty |a_{n}|-~расходится,~ то~\\displaystyle\\sum\\limits_{n=1}^\\infty a_{n}-~сходится~ условно $"
   ]
  },
  {
   "attachments": {},
   "cell_type": "markdown",
   "metadata": {},
   "source": [
    "$ \\displaystyle\\sum\\limits_{n=1}^\\infty \\frac{(-1)^{n}}{n+ln(n)} = \\frac{1}{n+ln(n)} = 0 - ряд~ сходится~ абсолютно,~ так~ как~ сходится~ модуль~ ряда~ $"
   ]
  },
  {
   "cell_type": "markdown",
   "metadata": {},
   "source": [
    "### Исследовать ряд на сходимость, используя признак Раабе:"
   ]
  },
  {
   "attachments": {},
   "cell_type": "markdown",
   "metadata": {},
   "source": [
    "$ \\displaystyle\\sum\\limits_{n=1}^\\infty \\frac{3^{n}}{2^{n}}~= D $"
   ]
  },
  {
   "attachments": {},
   "cell_type": "markdown",
   "metadata": {},
   "source": [
    "$ При~ D<0~ ряд~ расходится,~ при~ D>1~ или~ D=\\infty~ ряд~ сходится,~ при~ D=1~ Признак~ Раабе~ не~ дает~ ответа $"
   ]
  },
  {
   "attachments": {},
   "cell_type": "markdown",
   "metadata": {},
   "source": [
    "$ \\displaystyle\\sum\\limits_{n=1}^\\infty \\frac{3^{n}}{2^{n}}~= (n(\\frac{a(n)}{a(n+1)}) - 1) = (n(\\frac{3^{n}}{2^{n}} / \\frac{3^{n+1}}{2^{n+1}}) - 1) = n \\frac{2}{3} - 1 = -\\frac{1}{3}n < 1 - ряд~расходится$"
   ]
  }
 ],
 "metadata": {
  "kernelspec": {
   "display_name": "Python 3 (ipykernel)",
   "language": "python",
   "name": "python3"
  },
  "language_info": {
   "codemirror_mode": {
    "name": "ipython",
    "version": 3
   },
   "file_extension": ".py",
   "mimetype": "text/x-python",
   "name": "python",
   "nbconvert_exporter": "python",
   "pygments_lexer": "ipython3",
   "version": "3.9.12"
  }
 },
 "nbformat": 4,
 "nbformat_minor": 4
}
