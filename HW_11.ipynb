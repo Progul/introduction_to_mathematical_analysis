{
 "cells": [
  {
   "attachments": {},
   "cell_type": "markdown",
   "id": "7908ef46",
   "metadata": {},
   "source": [
    "## Домашняя работа 11"
   ]
  },
  {
   "cell_type": "markdown",
   "id": "870c4082",
   "metadata": {},
   "source": [
    "### 1. Решить уравнения:\n"
   ]
  },
  {
   "cell_type": "markdown",
   "id": "ec1a86e2",
   "metadata": {},
   "source": [
    "1. y' − y = 2x − 3"
   ]
  },
  {
   "attachments": {},
   "cell_type": "markdown",
   "id": "d145bd28",
   "metadata": {},
   "source": [
    "\n",
    "$\\mu(x)y' - \\mu(x)y = 2x\\mu(x) - 3\\mu(x)$\n",
    "\n",
    "Найдём множитель $\\mu(x)$, таким образом, чтобы левая часть полученного уравнения была полной производной т.е.: <br>\n",
    "$\\mu(x)y' - \\mu(x)y = (\\mu(x)y)'$ <br>\n",
    "\n",
    "Найдем функцию $\\mu(x)$, удовлетворяющую уравнению:<br>\n",
    "\n",
    "$\\frac{d\\mu(x)}{dx} = -\\mu(x)$ <br>\n",
    "\n",
    "Решим: <br>\n",
    "\n",
    "$\\mu(x) = e^{-x}$<br>\n",
    "\n",
    "Умножим исходное уравнение на множитель $\\mu(x)$:<br>\n",
    "$e^{-x}y' - e^{-x}y = 2xe^{-x} - 3e^{-x}$<br>\n",
    "\n",
    "Заметим, что левая часть является производной произведения функций $e^{-x}$ и $y(x)$, поэтому:<br>\n",
    "$(e^{-x}y(x))' = 2xe^{-x} - 3e^{-x}$<br>\n",
    "\n",
    "Проинтегрируем обе части:<br>\n",
    "$e^{-x}y(x) = -2xe^{-x} - 3e^{-x} + C$<br>\n",
    "\n",
    "где $C$ - произвольная постоянная интегрирования.<br>\n",
    "\n",
    "Разрешим уравнение относительно $y(x)$:<br>\n",
    "$y(x) = -2x - 3 + Ce^{x}$<br>\n",
    "\n",
    "где $C$ - произвольная постоянная.<br>"
   ]
  },
  {
   "cell_type": "markdown",
   "id": "fd7b1403",
   "metadata": {},
   "source": [
    "2. x^2y' + xy + 1 = 0"
   ]
  },
  {
   "attachments": {},
   "cell_type": "markdown",
   "id": "9d57c60e",
   "metadata": {},
   "source": [
    "Для решения данного уравнения воспользуемся методом Бернулли:<br>\n",
    "\n",
    "\n",
    "$y' + \\frac{1}{x}y = -\\frac{1}{x^2}y^{-1}$<br>\n",
    "\n",
    "Заменим переменной $z = y^{-1}$. Тогда:<br>\n",
    "$z' = -\\frac{y'}{y^2}$<br>\n",
    "\n",
    "и уравнение примет вид:<br>\n",
    "\n",
    "$-xz' - z = -\\frac{1}{x^2}$<br>\n",
    "\n",
    "Умножим обе части уравнения на множитель интегрирующего множителя $\\mu(x) = e^{-\\ln{x}} = \\frac{1}{x}$:<br>\n",
    "$-\\frac{z}{x} + z'\\cdot 1 = -\\frac{1}{x^3}$<br>\n",
    "\n",
    "Левая часть является производной произведения функций $z(x)/x$, поэтому:<br>\n",
    "$\\left(\\frac{z}{x}\\right)' = -\\frac{1}{x^3}$<br>\n",
    "\n",
    "Проинтегрируем обе части полученного уравнения:<br>\n",
    "$\\frac{z}{x} = \\frac{1}{2x^2} + C$<br>\n",
    "\n",
    "где $C$ - произвольная постоянная интегрирования.<br>\n",
    "\n",
    "Возвращаясь к исходной переменной $y(x)$:<br>\n",
    "$y(x) = \\frac{1}{Cx} + \\frac{1}{2x^2}$<br>\n",
    "\n",
    "где $C$ - произвольная постоянная.<br>"
   ]
  },
  {
   "cell_type": "markdown",
   "id": "9b597d5a",
   "metadata": {},
   "source": [
    "### 2.Исследовать ряд на сходимость:"
   ]
  },
  {
   "cell_type": "markdown",
   "id": "798a02de",
   "metadata": {},
   "source": [
    "\n",
    "1. $\\sum\\limits_{n=1}^\\infty \\frac{n+2}{n^2+n+1}$"
   ]
  },
  {
   "attachments": {},
   "cell_type": "markdown",
   "id": "ed28a6b7",
   "metadata": {},
   "source": [
    "$\\frac{n+2}{n^2+n+1} \\leq \\frac{n+2}{n^2} = \\frac{1}{n} + \\frac{2}{n^2}$\n",
    "\n",
    "Ряд $\\sum\\limits_{n=1}^\\infty \\frac{1}{n}$ - расходится (гармонический ряд).\n",
    "\n",
    "Ряд $\\sum\\limits_{n=1}^\\infty \\frac{1}{n^2}$ - сходится (ряд известный как ряд Бернулли).\n",
    "\n",
    "Таким образом, по признаку сравнения, ряд $\\sum\\limits_{n=1}^\\infty \\frac{n+2}{n^2+n+1}$ также расходится.\n",
    "\n",
    "Ответ: ряд расходится."
   ]
  },
  {
   "cell_type": "markdown",
   "id": "93bfc9e2",
   "metadata": {},
   "source": [
    "2. $\\sum\\limits_{n=1}^\\infty \\frac{n^n}{n!}$"
   ]
  },
  {
   "attachments": {},
   "cell_type": "markdown",
   "id": "5356ad5e",
   "metadata": {},
   "source": [
    "Воспользуемся признаком Даламбера:\n",
    "\n",
    "$\\frac{a_{n+1}}{a_n} = \\frac{(n+1)^{(n+1)}}{(n+1)!} \\cdot \\frac{n!}{n^n} = \\frac{(n+1)^n}{n^n} = \\left(1 + \\frac{1}{n}\\right)^n$\n",
    "\n",
    "Заметим, что $\\lim\\limits_{n \\to \\infty} \\left(1 + \\frac{1}{n}\\right)^n = e$, где $e$ - константа Эйлера. Таким образом, по признаку Даламбера, ряд $\\sum\\limits_{n=1}^\\infty \\frac{n^n}{n!}$ может как сходиться, так и расходиться.\n",
    "\n",
    "Для дополнительной проверки сходимости ряда воспользуемся признаком Коши:\n",
    "\n",
    "$\\sqrt[n]{a_n} = \\sqrt[n]{\\frac{n^n}{n!}} = \\frac{n}{(n!)^{1/n}}$\n",
    "\n",
    "Известно, что $\\lim\\limits_{n \\to \\infty} \\frac{n}{(n!)^{1/n}} = 0$. Таким образом, по признаку Коши, ряд $\\sum\\limits_{n=1}^\\infty \\frac{n^n}{n!}$ сходится.\n",
    "\n",
    "Ответ: ряд сходится."
   ]
  },
  {
   "cell_type": "markdown",
   "id": "37fa1d0a",
   "metadata": {},
   "source": [
    "3. $\\sum\\limits_{n=1}^\\infty \\ = \\ n \\cdot \\left(1 - \\frac{1}{n}\\right)^{n^2}$\n"
   ]
  },
  {
   "attachments": {},
   "cell_type": "markdown",
   "id": "a2f80e10",
   "metadata": {},
   "source": [
    "Для исследования ряда на сходимость воспользуемся признаком Коши:\n",
    "\n",
    "$\\sqrt[n]{a_n} = \\sqrt[n]{n \\cdot \\left(1 - \\frac{1}{n}\\right)^{n^2}} = \\sqrt[n]{n} \\cdot \\left(1 - \\frac{1}{n}\\right)^n$\n",
    "\n",
    "Заметим, что $\\lim\\limits_{n \\to \\infty} \\sqrt[n]{n} = 1$ и $\\lim\\limits_{n \\to \\infty} \\left(1 - \\frac{1}{n}\\right)^n = \\frac{1}{e}$. Тогда:\n",
    "\n",
    "$\\lim_{n \\to \\infty} \\sqrt[n]{a_n} = \\lim_{n \\to \\infty} \\sqrt[n]{n} \\cdot \\left(1 - \\frac{1}{n}\\right)^n = 1 \\cdot \\frac{1}{e} = \\frac{1}{e} < 1$\n",
    "\n",
    "Таким образом, по признаку Коши, ряд $\\sum\\limits_{n=1}^\\infty n \\cdot \\left(1 - \\frac{1}{n}\\right)^{n^2}$ сходится.\n",
    "\n",
    "Ответ: ряд сходится."
   ]
  },
  {
   "cell_type": "markdown",
   "id": "c862f0c0",
   "metadata": {},
   "source": [
    "4.$\\sum\\limits_{n=1}^\\infty \\frac{(-1)^{n+1}}{2n - \\ln n}$ "
   ]
  },
  {
   "attachments": {},
   "cell_type": "markdown",
   "id": "da1770f9",
   "metadata": {},
   "source": [
    "Воспользуемся признаком Лейбница. \n",
    "\n",
    "Для доказательства убывания монотонности последовательности $b_n$ рассмотрим:\n",
    "\n",
    "$\\frac{b_{n+1}}{b_n} = \\frac{2n - \\ln n}{2n+2-\\ln(n+1)} = \\frac{2n - \\ln n}{2n + 2 - (\\ln n + \\ln(1+\\frac{1}{n}))}$\n",
    "\n",
    "$= \\frac{2n - \\ln n}{2n + 2 - \\ln n - \\ln(1+\\frac{1}{n})} = \\frac{2n - \\ln n}{2n + 2 - \\ln n - \\frac{1}{n} + O(\\frac{1}{n^2})}$\n",
    "\n",
    "Таким образом, по признаку Лейбница, ряд $\\sum\\limits_{n=1}^\\infty \\frac{(-1)^{n+1}}{2n - \\ln n}$ сходится.\n",
    "\n",
    "Ответ: ряд сходится."
   ]
  }
 ],
 "metadata": {
  "kernelspec": {
   "display_name": "Python 3 (ipykernel)",
   "language": "python",
   "name": "python3"
  },
  "language_info": {
   "codemirror_mode": {
    "name": "ipython",
    "version": 3
   },
   "file_extension": ".py",
   "mimetype": "text/x-python",
   "name": "python",
   "nbconvert_exporter": "python",
   "pygments_lexer": "ipython3",
   "version": "3.9.12"
  }
 },
 "nbformat": 4,
 "nbformat_minor": 5
}
