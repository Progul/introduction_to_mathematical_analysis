{
 "cells": [
  {
   "attachments": {},
   "cell_type": "markdown",
   "metadata": {},
   "source": [
    "# Домашняя работа 9"
   ]
  },
  {
   "attachments": {},
   "cell_type": "markdown",
   "metadata": {},
   "source": [
    "### 1.Найти $\\frac{dz}{dt}$ , если $z = z(x; y), x = x(t), y = y(t)$:"
   ]
  },
  {
   "attachments": {},
   "cell_type": "markdown",
   "metadata": {},
   "source": [
    "$z = x^2 + y^2 + xy, x = a \\sin{t}, y = a \\cos{t}$;"
   ]
  },
  {
   "attachments": {},
   "cell_type": "markdown",
   "metadata": {},
   "source": [
    "$\\frac{dz}{dt} = \\frac{dz}{dx} * \\frac{dx}{dt} + \\frac{dz}{dy} * \\frac{dy}{dt}$ <br>\n",
    "Здесь $\\frac{dz}{dx}$ и $\\frac{dz}{dy}$ - частные производные функции $z(x,y)$, а $\\frac{dx}{dt}$ и $\\frac{dy}{dt}$ - производные функций $x(t)$ и $y(t)$ соответственно.<br>\n",
    "\n",
    "найдем $\\frac{dz}{dt}$ для данного случая:<br>\n",
    "$z = x^2 + y^2 + xy = (a \\sin{t})^2 + (a \\cos{t})^2 + (a \\sin{t})(a \\cos{t})$ <br>\n",
    "Частные производные:<br>\n",
    "$\\frac{dz}{dx} = 2x + y = 2a \\sin{t} + a \\cos{t} \\frac{dz}{dy} = 2y + x = 2a \\cos{t} + a \\sin{t}$<br>\n",
    "Производные:<br>\n",
    "$\\frac{dx}{dt} = a \\cos(t) \\frac{dy}{dt} = -a sin(t) $<br>\n",
    "подставим все значения в формулу для $\\frac{dz}{dt}$:<br>\n",
    "$\\frac{dz}{dt} = (2a \\sin{t} + a \\cos{t}) * a \\cos(t) + (2a \\cos{t} + a \\sin{t}) * (-a\\sin(t))$<br>\n",
    "$\\frac{dz}{dt} = 2a \\sin{t} * a \\cos(t) - 2a \\cos{t} * a \\sin(t)$\n"
   ]
  },
  {
   "attachments": {},
   "cell_type": "markdown",
   "metadata": {},
   "source": [
    "### 2. Для данных $z = f(x; y), x = x(u; v), y = y(u; v)$ найти $\\frac{∂z}{∂u}, \\frac{∂z}{∂v}$ и $dz$:"
   ]
  },
  {
   "attachments": {},
   "cell_type": "markdown",
   "metadata": {},
   "source": [
    "$z = x^3 + y^3, $где$ x = uv, y =\\frac{u}{v}$<br>\n",
    "$\\frac{∂z}{∂u} = \\frac{∂z}{∂x} * \\frac{∂x}{∂u} + \\frac{∂z}{∂y} * \\frac{∂y}{∂u}$<br>\n",
    "$\\frac{∂z}{∂v} = \\frac{∂z}{∂x} * \\frac{∂x}{∂v} + \\frac{∂z}{∂y} * \\frac{∂y}{∂v}$<br>\n",
    "Здесь $\\frac{∂z}{∂x}, \\frac{∂z}{∂y}, \\frac{∂x}{∂u}, \\frac{∂x}{∂v}, \\frac{∂y}{∂u}, \\frac{∂y}{∂v}$ - частные производные соответствующих функций.<br>\n",
    "найдем все необходимые частные производные и подставим их в формулы:<br>\n",
    "$z = x^3 + y^3 = (uv)^3 + (\\frac{u}{v})^3$<br>\n",
    "\n",
    "$\\frac{∂z}{∂x} = 3x^2 = 3(uv)^2$<br>$\\frac{∂z}{∂y} = 3y^2 = 3$<br>$\\frac{(\\frac{u}{v})^2}{\\frac{∂x}{∂u}} = v  $<br>$\\frac{∂x}{∂v} = u $<br>$\\frac{∂y}{∂u} = \\frac{1}{v}  $<br>$\\frac{∂y}{∂v} = \\frac{-u}{v^2}$<br>\n",
    "\n",
    "$\\frac{∂z}{∂u} = \\frac{∂z}{∂x} * \\frac{∂x}{∂u} + \\frac{∂z}{∂y} * \\frac{∂y}{∂u} = 3(uv)^2 * v + 3(\\frac{u}{v})^2 * (\\frac{1}{v}) = 3u^2v^3 + \\frac{3u}{v^4}$<br>\n",
    "\n",
    "$\\frac{∂z}{∂v} = \\frac{∂z}{∂x} * \\frac{∂x}{∂v} + \\frac{∂z}{∂y} * \\frac{∂y}{∂v} = 3(uv)^2 * u + 3(\\frac{u}{v})^2 * (\\frac{-u}{v^2}) = 3u^4v - \\frac{3u^2}{v}$<br>\n",
    "$dz = \\frac{∂z}{∂x} * dx + \\frac{∂z}{∂y} * dy$\n",
    "\n",
    "$dz = 3(uv)^2 * duv + 3(\\frac{u}{v})^2 * (\\frac{du}{v} - u * \\frac{dv}{v^2})$\n",
    "\n",
    "$dz = 3u^2v^3 * du + 3u^3 * \\frac{dv}{v^3}$"
   ]
  },
  {
   "attachments": {},
   "cell_type": "markdown",
   "metadata": {},
   "source": [
    "### 3.Найти производные $y'(x)$ неявных функций, заданных уравнениями: $xe^{2y} − y \\ln{x} = 8$."
   ]
  },
  {
   "attachments": {},
   "cell_type": "markdown",
   "metadata": {},
   "source": [
    "Дифференцируя обе части по $x$, получаем<br>\n",
    "$e^{2y} + xe^{2y} * 2y' - \\frac{y}{x} = 0$<br>\n",
    "Выражаем $y'$:<br>\n",
    "$e^{2y} * 2y' = \\frac{y}{x} - e^{2y}$<br>\n",
    "$y' = (\\frac{1}{2}) * \\frac{(\\frac{y}{x} - {e^{2y}})}{{e^{2y}}}$<br>\n",
    "Теперь можем подставить выражение для y из исходного уравнения и получить окончательный ответ для производной $y'(x)$:<br>\n",
    "$y' = (\\frac{1}{2}) * \\frac{(\\frac{(8 + y \\ln{x})}{x} - e^{2y})}{e^{2y}}$"
   ]
  },
  {
   "attachments": {},
   "cell_type": "markdown",
   "metadata": {},
   "source": [
    "### 4.Составить уравнение касательной прямой и нормали к кривой $y = y(x)$, заданной уравнением $F(x; y) = 0$ в точке $M_0(x_0; y_0): x^{3y} − y^{3x} = 6, M_0(2; 1)$."
   ]
  },
  {
   "attachments": {},
   "cell_type": "markdown",
   "metadata": {},
   "source": [
    "Находим производную $y'(x)$ неявной функции $y(x): x^{3y} - y^{3x} = 6$<br>\n",
    "$3x^{2y} + x^{3y'} - 3y^{2x} - y^3 = 0$<br>\n",
    "$y' = \\frac{(3y^{2x} - x^{2y})}{(x^3 - 3x^{2y})}$<br>\n",
    "В точке $M_0(2;1)$ значение $y'(2)$ можно найти, подставив $x_0=2$ и $y_0=1$ в полученное выражение для $y'$:<br>\n",
    "$y'(2) = \\frac{(31^22 - 2^21)}{(2^3 - 32^2*1)} = \\frac{-1}{4}$<br>\n",
    "Находим уравнение касательной прямой, проходящей через точку $M_0(x_0,y_0)$ с угловым коэффициентом $y'(x_0): y - y_0 = y'(x_0) * (x - x_0)$<br>\n",
    "Подставляем $x_0=2, y_0=1, y'(2)=\\frac{-1}{4}$:<br>\n",
    "$y - 1 = (\\frac{-1}{4}) * (x - 2)$<br>\n",
    "$y = (\\frac{-1}{4}) * x + \\frac{9}{4}$ - уравнение касательной прямой<br>\n",
    "Находим уравнение нормали к кривой в точке $M_0(x_0,y_0)$, которая перпендикулярна к касательной: $y - y_0 = (\\frac{-1}{y}'(x_0)) * (x - x_0)$<br>\n",
    "Подставляем $x_0=2, y_0=1, y'(2)=\\frac{-1}{4}$:<br>\n",
    "$y - 1 = 4 * (x - 2)$<br>\n",
    "$y = 4x - 7$ - уравнение нормали к кривой\n",
    "\n"
   ]
  }
 ],
 "metadata": {
  "language_info": {
   "name": "python"
  },
  "orig_nbformat": 4
 },
 "nbformat": 4,
 "nbformat_minor": 2
}
